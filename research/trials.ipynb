{
 "cells": [
  {
   "cell_type": "code",
   "execution_count": null,
   "id": "48bbb6d6",
   "metadata": {},
   "outputs": [],
   "source": [
    "from box import ConfigBox\n",
    "from ensure import ensure_annotations"
   ]
  },
  {
   "cell_type": "markdown",
   "id": "f80f3132",
   "metadata": {},
   "source": [
    "**Download data from gdrive**\n"
   ]
  },
  {
   "cell_type": "code",
   "execution_count": 2,
   "id": "48b63d04",
   "metadata": {},
   "outputs": [],
   "source": [
    "import gdown"
   ]
  },
  {
   "cell_type": "code",
   "execution_count": 3,
   "id": "888c2f99",
   "metadata": {},
   "outputs": [],
   "source": [
    "url = \"https://drive.google.com/file/d/10qsjzcEEZHHt6OVfVZ-0nbPpetCAe0Jq/view?usp=sharing\""
   ]
  },
  {
   "cell_type": "code",
   "execution_count": 4,
   "id": "66a9e5ca",
   "metadata": {},
   "outputs": [
    {
     "data": {
      "text/plain": [
       "str"
      ]
     },
     "execution_count": 4,
     "metadata": {},
     "output_type": "execute_result"
    }
   ],
   "source": [
    "type(url)"
   ]
  },
  {
   "cell_type": "code",
   "execution_count": 5,
   "id": "0d861054",
   "metadata": {},
   "outputs": [
    {
     "data": {
      "text/plain": [
       "'10qsjzcEEZHHt6OVfVZ-0nbPpetCAe0Jq'"
      ]
     },
     "execution_count": 5,
     "metadata": {},
     "output_type": "execute_result"
    }
   ],
   "source": [
    "file_id = url.split(\"/\")[-2]\n",
    "file_id"
   ]
  },
  {
   "cell_type": "code",
   "execution_count": 6,
   "id": "baca1153",
   "metadata": {},
   "outputs": [
    {
     "name": "stderr",
     "output_type": "stream",
     "text": [
      "Downloading...\n",
      "From (original): https://drive.google.com/uc?/export=download&id=10qsjzcEEZHHt6OVfVZ-0nbPpetCAe0Jq\n",
      "From (redirected): https://drive.google.com/uc?%2Fexport=download&id=10qsjzcEEZHHt6OVfVZ-0nbPpetCAe0Jq&confirm=t&uuid=0eb92fea-be63-48cf-bdeb-30a2cd1a125e\n",
      "To: c:\\Users\\swani\\Desktop\\Projects\\DL-Chest_cancer_classification-MLFLOW-DVC\\research\\Chest-CT-Scan-data.zip\n",
      "100%|██████████| 84.1M/84.1M [01:03<00:00, 1.33MB/s]\n"
     ]
    },
    {
     "data": {
      "text/plain": [
       "'Chest-CT-Scan-data.zip'"
      ]
     },
     "execution_count": 6,
     "metadata": {},
     "output_type": "execute_result"
    }
   ],
   "source": [
    "\n",
    "prefix = 'https://drive.google.com/uc?/export=download&id='\n",
    "gdown.download(prefix+file_id, \"Chest-CT-Scan-data.zip\")"
   ]
  },
  {
   "cell_type": "code",
   "execution_count": null,
   "id": "dee46514",
   "metadata": {},
   "outputs": [],
   "source": []
  }
 ],
 "metadata": {
  "kernelspec": {
   "display_name": ".venv",
   "language": "python",
   "name": "python3"
  },
  "language_info": {
   "codemirror_mode": {
    "name": "ipython",
    "version": 3
   },
   "file_extension": ".py",
   "mimetype": "text/x-python",
   "name": "python",
   "nbconvert_exporter": "python",
   "pygments_lexer": "ipython3",
   "version": "3.12.4"
  }
 },
 "nbformat": 4,
 "nbformat_minor": 5
}
